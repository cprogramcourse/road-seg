{
  "nbformat": 4,
  "nbformat_minor": 0,
  "metadata": {
    "colab": {
      "name": "DeepLabV3FineTuningPycharm.ipynb",
      "provenance": [],
      "authorship_tag": "ABX9TyOjYkhRXEyXwfy4JlQz91Sv",
      "include_colab_link": true
    },
    "kernelspec": {
      "name": "python3",
      "display_name": "Python 3"
    },
    "language_info": {
      "name": "python"
    }
  },
  "cells": [
    {
      "cell_type": "markdown",
      "metadata": {
        "id": "view-in-github",
        "colab_type": "text"
      },
      "source": [
        "<a href=\"https://colab.research.google.com/github/cprogramcourse/road-seg/blob/main/DeepLabV3FineTuningPycharm.ipynb\" target=\"_parent\"><img src=\"https://colab.research.google.com/assets/colab-badge.svg\" alt=\"Open In Colab\"/></a>"
      ]
    },
    {
      "cell_type": "code",
      "source": [
        "!git clone https://github.com/jnkl314/DeepLabV3FineTuning\n"
      ],
      "metadata": {
        "colab": {
          "base_uri": "https://localhost:8080/"
        },
        "id": "kILxCOLuETtv",
        "outputId": "8954dd56-70ed-4878-a748-2d601278b8a6"
      },
      "execution_count": null,
      "outputs": [
        {
          "output_type": "stream",
          "name": "stdout",
          "text": [
            "Cloning into 'DeepLabV3FineTuning'...\n",
            "remote: Enumerating objects: 95, done.\u001b[K\n",
            "remote: Counting objects: 100% (95/95), done.\u001b[K\n",
            "remote: Compressing objects: 100% (77/77), done.\u001b[K\n",
            "remote: Total 95 (delta 29), reused 73 (delta 17), pack-reused 0\u001b[K\n",
            "Unpacking objects: 100% (95/95), done.\n"
          ]
        }
      ]
    },
    {
      "cell_type": "code",
      "source": [
        "!ls\n"
      ],
      "metadata": {
        "colab": {
          "base_uri": "https://localhost:8080/"
        },
        "id": "HXC5omMAEe0J",
        "outputId": "97749763-d03c-4b13-bb74-16ddcb4ee67f"
      },
      "execution_count": null,
      "outputs": [
        {
          "output_type": "stream",
          "name": "stdout",
          "text": [
            "DeepLabV3FineTuning  sample_data\n"
          ]
        }
      ]
    },
    {
      "cell_type": "code",
      "source": [
        "%cd DeepLabV3FineTuning  \n"
      ],
      "metadata": {
        "colab": {
          "base_uri": "https://localhost:8080/"
        },
        "id": "00MMsk39rugz",
        "outputId": "44285a10-acb3-4b4c-b414-845954da3f1c"
      },
      "execution_count": null,
      "outputs": [
        {
          "output_type": "stream",
          "name": "stdout",
          "text": [
            "/content/DeepLabV3FineTuning\n"
          ]
        }
      ]
    },
    {
      "cell_type": "code",
      "source": [
        "%cd ..\n",
        "from google.colab import drive\n",
        "drive.mount('/content/gdrive')"
      ],
      "metadata": {
        "colab": {
          "base_uri": "https://localhost:8080/"
        },
        "id": "629L3Zp2HGzU",
        "outputId": "6a655d93-fe76-44f9-bddf-2f6206acab51"
      },
      "execution_count": null,
      "outputs": [
        {
          "output_type": "stream",
          "name": "stdout",
          "text": [
            "/content\n",
            "Mounted at /content/gdrive\n"
          ]
        }
      ]
    },
    {
      "cell_type": "code",
      "source": [
        "!unzip /content/gdrive/MyDrive/pytorchdataset/citysampledeepfinetuneDatasets.zip -d /content/DeepLabV3FineTuning"
      ],
      "metadata": {
        "colab": {
          "base_uri": "https://localhost:8080/"
        },
        "id": "Vwri-rmzHmH2",
        "outputId": "03e2b619-e77a-425d-ced7-fffebcdd7289"
      },
      "execution_count": null,
      "outputs": [
        {
          "output_type": "stream",
          "name": "stdout",
          "text": [
            "Archive:  /content/gdrive/MyDrive/pytorchdataset/citysampledeepfinetuneDatasets.zip\n",
            "   creating: /content/DeepLabV3FineTuning/citysampledeepfinetuneDatasets/train/\n",
            "   creating: /content/DeepLabV3FineTuning/citysampledeepfinetuneDatasets/train/Images/\n",
            "  inflating: /content/DeepLabV3FineTuning/citysampledeepfinetuneDatasets/train/Images/101.png  \n",
            "  inflating: /content/DeepLabV3FineTuning/citysampledeepfinetuneDatasets/train/Images/1010.png  \n",
            "  inflating: /content/DeepLabV3FineTuning/citysampledeepfinetuneDatasets/train/Images/1011.png  \n",
            "  inflating: /content/DeepLabV3FineTuning/citysampledeepfinetuneDatasets/train/Images/1012.png  \n",
            "  inflating: /content/DeepLabV3FineTuning/citysampledeepfinetuneDatasets/train/Images/1013.png  \n",
            "  inflating: /content/DeepLabV3FineTuning/citysampledeepfinetuneDatasets/train/Images/1014.png  \n",
            "  inflating: /content/DeepLabV3FineTuning/citysampledeepfinetuneDatasets/train/Images/1015.png  \n",
            "  inflating: /content/DeepLabV3FineTuning/citysampledeepfinetuneDatasets/train/Images/1016.png  \n",
            "  inflating: /content/DeepLabV3FineTuning/citysampledeepfinetuneDatasets/train/Images/1017.png  \n",
            "  inflating: /content/DeepLabV3FineTuning/citysampledeepfinetuneDatasets/train/Images/1018.png  \n",
            "  inflating: /content/DeepLabV3FineTuning/citysampledeepfinetuneDatasets/train/Images/1019.png  \n",
            "  inflating: /content/DeepLabV3FineTuning/citysampledeepfinetuneDatasets/train/Images/102.png  \n",
            "  inflating: /content/DeepLabV3FineTuning/citysampledeepfinetuneDatasets/train/Images/1020.png  \n",
            "  inflating: /content/DeepLabV3FineTuning/citysampledeepfinetuneDatasets/train/Images/1021.png  \n",
            "  inflating: /content/DeepLabV3FineTuning/citysampledeepfinetuneDatasets/train/Images/1022.png  \n",
            "  inflating: /content/DeepLabV3FineTuning/citysampledeepfinetuneDatasets/train/Images/1023.png  \n",
            "  inflating: /content/DeepLabV3FineTuning/citysampledeepfinetuneDatasets/train/Images/1024.png  \n",
            "  inflating: /content/DeepLabV3FineTuning/citysampledeepfinetuneDatasets/train/Images/1025.png  \n",
            "  inflating: /content/DeepLabV3FineTuning/citysampledeepfinetuneDatasets/train/Images/1026.png  \n",
            "  inflating: /content/DeepLabV3FineTuning/citysampledeepfinetuneDatasets/train/Images/1027.png  \n",
            "  inflating: /content/DeepLabV3FineTuning/citysampledeepfinetuneDatasets/train/Images/1028.png  \n",
            "  inflating: /content/DeepLabV3FineTuning/citysampledeepfinetuneDatasets/train/Images/1029.png  \n",
            "  inflating: /content/DeepLabV3FineTuning/citysampledeepfinetuneDatasets/train/Images/103.png  \n",
            "  inflating: /content/DeepLabV3FineTuning/citysampledeepfinetuneDatasets/train/Images/1030.png  \n",
            "  inflating: /content/DeepLabV3FineTuning/citysampledeepfinetuneDatasets/train/Images/1031.png  \n",
            "  inflating: /content/DeepLabV3FineTuning/citysampledeepfinetuneDatasets/train/Images/104.png  \n",
            "  inflating: /content/DeepLabV3FineTuning/citysampledeepfinetuneDatasets/train/Images/105.png  \n",
            "  inflating: /content/DeepLabV3FineTuning/citysampledeepfinetuneDatasets/train/Images/106.png  \n",
            "  inflating: /content/DeepLabV3FineTuning/citysampledeepfinetuneDatasets/train/Images/107.png  \n",
            "  inflating: /content/DeepLabV3FineTuning/citysampledeepfinetuneDatasets/train/Images/108.png  \n",
            "  inflating: /content/DeepLabV3FineTuning/citysampledeepfinetuneDatasets/train/Images/109.png  \n",
            "   creating: /content/DeepLabV3FineTuning/citysampledeepfinetuneDatasets/train/Labels/\n",
            "  inflating: /content/DeepLabV3FineTuning/citysampledeepfinetuneDatasets/train/Labels/101.png  \n",
            "  inflating: /content/DeepLabV3FineTuning/citysampledeepfinetuneDatasets/train/Labels/1010.png  \n",
            "  inflating: /content/DeepLabV3FineTuning/citysampledeepfinetuneDatasets/train/Labels/1011.png  \n",
            "  inflating: /content/DeepLabV3FineTuning/citysampledeepfinetuneDatasets/train/Labels/1012.png  \n",
            "  inflating: /content/DeepLabV3FineTuning/citysampledeepfinetuneDatasets/train/Labels/1013.png  \n",
            "  inflating: /content/DeepLabV3FineTuning/citysampledeepfinetuneDatasets/train/Labels/1014.png  \n",
            "  inflating: /content/DeepLabV3FineTuning/citysampledeepfinetuneDatasets/train/Labels/1015.png  \n",
            "  inflating: /content/DeepLabV3FineTuning/citysampledeepfinetuneDatasets/train/Labels/1016.png  \n",
            "  inflating: /content/DeepLabV3FineTuning/citysampledeepfinetuneDatasets/train/Labels/1017.png  \n",
            "  inflating: /content/DeepLabV3FineTuning/citysampledeepfinetuneDatasets/train/Labels/1018.png  \n",
            "  inflating: /content/DeepLabV3FineTuning/citysampledeepfinetuneDatasets/train/Labels/1019.png  \n",
            "  inflating: /content/DeepLabV3FineTuning/citysampledeepfinetuneDatasets/train/Labels/102.png  \n",
            "  inflating: /content/DeepLabV3FineTuning/citysampledeepfinetuneDatasets/train/Labels/1020.png  \n",
            "  inflating: /content/DeepLabV3FineTuning/citysampledeepfinetuneDatasets/train/Labels/1021.png  \n",
            "  inflating: /content/DeepLabV3FineTuning/citysampledeepfinetuneDatasets/train/Labels/1022.png  \n",
            "  inflating: /content/DeepLabV3FineTuning/citysampledeepfinetuneDatasets/train/Labels/1023.png  \n",
            "  inflating: /content/DeepLabV3FineTuning/citysampledeepfinetuneDatasets/train/Labels/1024.png  \n",
            "  inflating: /content/DeepLabV3FineTuning/citysampledeepfinetuneDatasets/train/Labels/1025.png  \n",
            "  inflating: /content/DeepLabV3FineTuning/citysampledeepfinetuneDatasets/train/Labels/1026.png  \n",
            "  inflating: /content/DeepLabV3FineTuning/citysampledeepfinetuneDatasets/train/Labels/1027.png  \n",
            "  inflating: /content/DeepLabV3FineTuning/citysampledeepfinetuneDatasets/train/Labels/1028.png  \n",
            "  inflating: /content/DeepLabV3FineTuning/citysampledeepfinetuneDatasets/train/Labels/1029.png  \n",
            "  inflating: /content/DeepLabV3FineTuning/citysampledeepfinetuneDatasets/train/Labels/103.png  \n",
            "  inflating: /content/DeepLabV3FineTuning/citysampledeepfinetuneDatasets/train/Labels/1030.png  \n",
            "  inflating: /content/DeepLabV3FineTuning/citysampledeepfinetuneDatasets/train/Labels/1031.png  \n",
            "  inflating: /content/DeepLabV3FineTuning/citysampledeepfinetuneDatasets/train/Labels/104.png  \n",
            "  inflating: /content/DeepLabV3FineTuning/citysampledeepfinetuneDatasets/train/Labels/105.png  \n",
            "  inflating: /content/DeepLabV3FineTuning/citysampledeepfinetuneDatasets/train/Labels/106.png  \n",
            "  inflating: /content/DeepLabV3FineTuning/citysampledeepfinetuneDatasets/train/Labels/107.png  \n",
            "  inflating: /content/DeepLabV3FineTuning/citysampledeepfinetuneDatasets/train/Labels/108.png  \n",
            "  inflating: /content/DeepLabV3FineTuning/citysampledeepfinetuneDatasets/train/Labels/109.png  \n",
            "   creating: /content/DeepLabV3FineTuning/citysampledeepfinetuneDatasets/val/\n",
            "   creating: /content/DeepLabV3FineTuning/citysampledeepfinetuneDatasets/val/Images/\n",
            "  inflating: /content/DeepLabV3FineTuning/citysampledeepfinetuneDatasets/val/Images/1001.png  \n",
            "  inflating: /content/DeepLabV3FineTuning/citysampledeepfinetuneDatasets/val/Images/10010.png  \n",
            "  inflating: /content/DeepLabV3FineTuning/citysampledeepfinetuneDatasets/val/Images/10011.png  \n",
            "  inflating: /content/DeepLabV3FineTuning/citysampledeepfinetuneDatasets/val/Images/10012.png  \n",
            "  inflating: /content/DeepLabV3FineTuning/citysampledeepfinetuneDatasets/val/Images/10013.png  \n",
            "  inflating: /content/DeepLabV3FineTuning/citysampledeepfinetuneDatasets/val/Images/10014.png  \n",
            "  inflating: /content/DeepLabV3FineTuning/citysampledeepfinetuneDatasets/val/Images/10015.png  \n",
            "  inflating: /content/DeepLabV3FineTuning/citysampledeepfinetuneDatasets/val/Images/1002.png  \n",
            "  inflating: /content/DeepLabV3FineTuning/citysampledeepfinetuneDatasets/val/Images/1003.png  \n",
            "  inflating: /content/DeepLabV3FineTuning/citysampledeepfinetuneDatasets/val/Images/1004.png  \n",
            "  inflating: /content/DeepLabV3FineTuning/citysampledeepfinetuneDatasets/val/Images/1005.png  \n",
            "  inflating: /content/DeepLabV3FineTuning/citysampledeepfinetuneDatasets/val/Images/1006.png  \n",
            "  inflating: /content/DeepLabV3FineTuning/citysampledeepfinetuneDatasets/val/Images/1007.png  \n",
            "  inflating: /content/DeepLabV3FineTuning/citysampledeepfinetuneDatasets/val/Images/1008.png  \n",
            "  inflating: /content/DeepLabV3FineTuning/citysampledeepfinetuneDatasets/val/Images/1009.png  \n",
            "   creating: /content/DeepLabV3FineTuning/citysampledeepfinetuneDatasets/val/Labels/\n",
            "  inflating: /content/DeepLabV3FineTuning/citysampledeepfinetuneDatasets/val/Labels/1001.png  \n",
            "  inflating: /content/DeepLabV3FineTuning/citysampledeepfinetuneDatasets/val/Labels/10010.png  \n",
            "  inflating: /content/DeepLabV3FineTuning/citysampledeepfinetuneDatasets/val/Labels/10011.png  \n",
            "  inflating: /content/DeepLabV3FineTuning/citysampledeepfinetuneDatasets/val/Labels/10012.png  \n",
            "  inflating: /content/DeepLabV3FineTuning/citysampledeepfinetuneDatasets/val/Labels/10013.png  \n",
            "  inflating: /content/DeepLabV3FineTuning/citysampledeepfinetuneDatasets/val/Labels/10014.png  \n",
            "  inflating: /content/DeepLabV3FineTuning/citysampledeepfinetuneDatasets/val/Labels/10015.png  \n",
            "  inflating: /content/DeepLabV3FineTuning/citysampledeepfinetuneDatasets/val/Labels/1002.png  \n",
            "  inflating: /content/DeepLabV3FineTuning/citysampledeepfinetuneDatasets/val/Labels/1003.png  \n",
            "  inflating: /content/DeepLabV3FineTuning/citysampledeepfinetuneDatasets/val/Labels/1004.png  \n",
            "  inflating: /content/DeepLabV3FineTuning/citysampledeepfinetuneDatasets/val/Labels/1005.png  \n",
            "  inflating: /content/DeepLabV3FineTuning/citysampledeepfinetuneDatasets/val/Labels/1006.png  \n",
            "  inflating: /content/DeepLabV3FineTuning/citysampledeepfinetuneDatasets/val/Labels/1007.png  \n",
            "  inflating: /content/DeepLabV3FineTuning/citysampledeepfinetuneDatasets/val/Labels/1008.png  \n",
            "  inflating: /content/DeepLabV3FineTuning/citysampledeepfinetuneDatasets/val/Labels/1009.png  \n"
          ]
        }
      ]
    },
    {
      "cell_type": "code",
      "source": [
        "%cd DeepLabV3FineTuning/"
      ],
      "metadata": {
        "colab": {
          "base_uri": "https://localhost:8080/"
        },
        "id": "qkId3cB-I3Ic",
        "outputId": "d2cb7913-ed66-45f3-86cb-9ff45d0d6876"
      },
      "execution_count": null,
      "outputs": [
        {
          "output_type": "stream",
          "name": "stdout",
          "text": [
            "[Errno 2] No such file or directory: 'DeepLabV3FineTuning/'\n",
            "/content/DeepLabV3FineTuning\n"
          ]
        }
      ]
    },
    {
      "cell_type": "code",
      "source": [
        "!python sources/main_training.py ./sample_dataset/ ./training_output --num_classes 5 --epochs 100 --batch_size 16 --keep_feature_extract\n"
      ],
      "metadata": {
        "colab": {
          "base_uri": "https://localhost:8080/"
        },
        "id": "1-jQzk-pEh_9",
        "outputId": "65a4f3bd-fd0a-478e-a02e-322cd9205fa0"
      },
      "execution_count": null,
      "outputs": [
        {
          "output_type": "stream",
          "name": "stdout",
          "text": [
            "PyTorch Version:  1.11.0+cu113\n",
            "Torchvision Version:  0.12.0+cu113\n",
            "Initializing Datasets and Dataloaders...\n",
            "/usr/local/lib/python3.7/dist-packages/torch/utils/data/dataloader.py:490: UserWarning: This DataLoader will create 4 worker processes in total. Our suggested max number of worker in current system is 2, which is smaller than what this DataLoader is going to create. Please be aware that excessive worker creation might get DataLoader running slow or even freeze, lower the worker number to avoid potential slowness/freeze if necessary.\n",
            "  cpuset_checked))\n",
            "Initializing Model...\n",
            "Params to learn:\n",
            "Traceback (most recent call last):\n",
            "  File \"sources/main_training.py\", line 106, in <module>\n",
            "    args_preprocess()\n",
            "  File \"sources/main_training.py\", line 102, in args_preprocess\n",
            "    main(args.data_dir, args.dest_dir, args.num_classes, args.batch_size, args.epochs, args.keep_feature_extract, weight)\n",
            "  File \"sources/main_training.py\", line 64, in main\n",
            "    optimizer_ft = optim.SGD(params_to_update, lr=0.001, momentum=0.9)\n",
            "  File \"/usr/local/lib/python3.7/dist-packages/torch/optim/sgd.py\", line 101, in __init__\n",
            "    super(SGD, self).__init__(params, defaults)\n",
            "  File \"/usr/local/lib/python3.7/dist-packages/torch/optim/optimizer.py\", line 49, in __init__\n",
            "    raise ValueError(\"optimizer got an empty parameter list\")\n",
            "ValueError: optimizer got an empty parameter list\n"
          ]
        }
      ]
    },
    {
      "cell_type": "code",
      "source": [
        "!python sources/main_training.py ./sample_dataset ./training_output --num_classes 5 --epochs 100 --batch_size 16 --keep_feature_extract\n"
      ],
      "metadata": {
        "colab": {
          "base_uri": "https://localhost:8080/"
        },
        "id": "1RtbHa_vEmXt",
        "outputId": "49d29e6b-a529-48b6-f5d8-8ce0470f1525"
      },
      "execution_count": null,
      "outputs": [
        {
          "output_type": "stream",
          "name": "stdout",
          "text": [
            "PyTorch Version:  1.11.0+cu113\n",
            "Torchvision Version:  0.12.0+cu113\n",
            "Initializing Datasets and Dataloaders...\n",
            "/usr/local/lib/python3.7/dist-packages/torch/utils/data/dataloader.py:490: UserWarning: This DataLoader will create 4 worker processes in total. Our suggested max number of worker in current system is 2, which is smaller than what this DataLoader is going to create. Please be aware that excessive worker creation might get DataLoader running slow or even freeze, lower the worker number to avoid potential slowness/freeze if necessary.\n",
            "  cpuset_checked))\n",
            "Initializing Model...\n",
            "Downloading: \"https://download.pytorch.org/models/deeplabv3_resnet101_coco-586e9e4e.pth\" to /root/.cache/torch/hub/checkpoints/deeplabv3_resnet101_coco-586e9e4e.pth\n",
            "100% 233M/233M [00:02<00:00, 95.4MB/s]\n",
            "Params to learn:\n",
            "\t classifier.0.convs.0.0.weight\n",
            "\t classifier.0.convs.0.1.weight\n",
            "\t classifier.0.convs.0.1.bias\n",
            "\t classifier.0.convs.1.0.weight\n",
            "\t classifier.0.convs.1.1.weight\n",
            "\t classifier.0.convs.1.1.bias\n",
            "\t classifier.0.convs.2.0.weight\n",
            "\t classifier.0.convs.2.1.weight\n",
            "\t classifier.0.convs.2.1.bias\n",
            "\t classifier.0.convs.3.0.weight\n",
            "\t classifier.0.convs.3.1.weight\n",
            "\t classifier.0.convs.3.1.bias\n",
            "\t classifier.0.convs.4.1.weight\n",
            "\t classifier.0.convs.4.2.weight\n",
            "\t classifier.0.convs.4.2.bias\n",
            "\t classifier.0.project.0.weight\n",
            "\t classifier.0.project.1.weight\n",
            "\t classifier.0.project.1.bias\n",
            "\t classifier.1.weight\n",
            "\t classifier.2.weight\n",
            "\t classifier.2.bias\n",
            "\t classifier.4.weight\n",
            "\t classifier.4.bias\n",
            "Train...\n",
            "Epoch 1/100\n",
            "----------\n",
            "Exception ignored in: <function _MultiProcessingDataLoaderIter.__del__ at 0x7f188ed72b00>\n",
            "Traceback (most recent call last):\n",
            "  File \"/usr/local/lib/python3.7/dist-packages/torch/utils/data/dataloader.py\", line 1358, in __del__\n",
            "    self._shutdown_workers()\n",
            "  File \"/usr/local/lib/python3.7/dist-packages/torch/utils/data/dataloader.py\", line 1322, in _shutdown_workers\n",
            "    w.join(timeout=_utils.MP_STATUS_CHECK_INTERVAL)\n",
            "  File \"/usr/lib/python3.7/multiprocessing/process.py\", line 140, in join\n",
            "    res = self._popen.wait(timeout)\n",
            "  File \"/usr/lib/python3.7/multiprocessing/popen_fork.py\", line 45, in wait\n",
            "    if not wait([self.sentinel], timeout):\n",
            "  File \"/usr/lib/python3.7/multiprocessing/connection.py\", line 921, in wait\n",
            "    ready = selector.select(timeout)\n",
            "  File \"/usr/lib/python3.7/selectors.py\", line 415, in select\n",
            "    fd_event_list = self._selector.poll(timeout)\n",
            "KeyboardInterrupt: \n",
            "Traceback (most recent call last):\n",
            "  File \"sources/main_training.py\", line 106, in <module>\n",
            "    args_preprocess()\n",
            "  File \"sources/main_training.py\", line 102, in args_preprocess\n",
            "    main(args.data_dir, args.dest_dir, args.num_classes, args.batch_size, args.epochs, args.keep_feature_extract, weight)\n",
            "  File \"sources/main_training.py\", line 75, in main\n",
            "    model_deeplabv3_state_dict, hist = train_model(model_deeplabv3, num_classes, dataloaders_dict, criterion, optimizer_ft, device, dest_dir, num_epochs=num_epochs)\n",
            "  File \"/content/DeepLabV3FineTuning/sources/train.py\", line 91, in train_model\n",
            "    loss.backward()\n",
            "  File \"/usr/local/lib/python3.7/dist-packages/torch/_tensor.py\", line 363, in backward\n",
            "    torch.autograd.backward(self, gradient, retain_graph, create_graph, inputs=inputs)\n",
            "  File \"/usr/local/lib/python3.7/dist-packages/torch/autograd/__init__.py\", line 175, in backward\n",
            "    allow_unreachable=True, accumulate_grad=True)  # Calls into the C++ engine to run the backward pass\n",
            "KeyboardInterrupt\n"
          ]
        }
      ]
    }
  ]
}